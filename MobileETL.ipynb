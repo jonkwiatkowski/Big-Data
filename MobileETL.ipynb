{
  "nbformat": 4,
  "nbformat_minor": 0,
  "metadata": {
    "colab": {
      "provenance": []
    },
    "kernelspec": {
      "name": "python3",
      "display_name": "Python 3"
    },
    "language_info": {
      "name": "python"
    }
  },
  "cells": [
    {
      "cell_type": "code",
      "execution_count": 1,
      "metadata": {
        "colab": {
          "base_uri": "https://localhost:8080/"
        },
        "id": "yU-eFjl3umcC",
        "outputId": "ff6b00f7-f9ac-4da4-bad2-db16b31040c4"
      },
      "outputs": [
        {
          "output_type": "stream",
          "name": "stdout",
          "text": [
            "\r0% [Working]\r            \rGet:1 https://cloud.r-project.org/bin/linux/ubuntu bionic-cran40/ InRelease [3,626 B]\n",
            "\r0% [Connecting to archive.ubuntu.com (185.125.190.36)] [Connecting to security.\r0% [Connecting to archive.ubuntu.com (185.125.190.36)] [Connecting to security.\r0% [1 InRelease gpgv 3,626 B] [Waiting for headers] [Waiting for headers] [Wait\r                                                                               \rGet:2 http://security.ubuntu.com/ubuntu bionic-security InRelease [88.7 kB]\n",
            "\r0% [1 InRelease gpgv 3,626 B] [Waiting for headers] [2 InRelease 14.2 kB/88.7 k\r                                                                               \rHit:3 http://ppa.launchpad.net/c2d4u.team/c2d4u4.0+/ubuntu bionic InRelease\n",
            "\r0% [1 InRelease gpgv 3,626 B] [Waiting for headers] [2 InRelease 14.2 kB/88.7 k\r                                                                               \rHit:4 http://archive.ubuntu.com/ubuntu bionic InRelease\n",
            "\r0% [1 InRelease gpgv 3,626 B] [Waiting for headers] [2 InRelease 14.2 kB/88.7 k\r                                                                               \rIgn:5 https://developer.download.nvidia.com/compute/machine-learning/repos/ubuntu1804/x86_64  InRelease\n",
            "\r0% [1 InRelease gpgv 3,626 B] [Waiting for headers] [2 InRelease 14.2 kB/88.7 k\r                                                                               \rGet:6 https://developer.download.nvidia.com/compute/cuda/repos/ubuntu1804/x86_64  InRelease [1,581 B]\n",
            "\r0% [1 InRelease gpgv 3,626 B] [Waiting for headers] [2 InRelease 14.2 kB/88.7 k\r0% [1 InRelease gpgv 3,626 B] [Waiting for headers] [2 InRelease 14.2 kB/88.7 k\r                                                                               \rHit:7 https://developer.download.nvidia.com/compute/machine-learning/repos/ubuntu1804/x86_64  Release\n",
            "Get:8 http://archive.ubuntu.com/ubuntu bionic-updates InRelease [88.7 kB]\n",
            "Hit:9 http://ppa.launchpad.net/cran/libgit2/ubuntu bionic InRelease\n",
            "Hit:10 http://ppa.launchpad.net/deadsnakes/ppa/ubuntu bionic InRelease\n",
            "Get:11 http://archive.ubuntu.com/ubuntu bionic-backports InRelease [83.3 kB]\n",
            "Hit:12 http://ppa.launchpad.net/graphics-drivers/ppa/ubuntu bionic InRelease\n",
            "Get:13 https://developer.download.nvidia.com/compute/cuda/repos/ubuntu1804/x86_64  Packages [1,038 kB]\n",
            "Get:15 http://security.ubuntu.com/ubuntu bionic-security/main amd64 Packages [3,069 kB]\n",
            "Get:16 http://archive.ubuntu.com/ubuntu bionic-updates/restricted amd64 Packages [1,303 kB]\n",
            "Get:17 http://security.ubuntu.com/ubuntu bionic-security/universe amd64 Packages [1,563 kB]\n",
            "Get:18 http://archive.ubuntu.com/ubuntu bionic-updates/universe amd64 Packages [2,338 kB]\n",
            "Get:19 http://archive.ubuntu.com/ubuntu bionic-updates/main amd64 Packages [3,497 kB]\n",
            "Fetched 13.1 MB in 4s (2,974 kB/s)\n",
            "Reading package lists... Done\n"
          ]
        }
      ],
      "source": [
        "import os\n",
        "# Find the latest version of spark 3.2.x  from http://www.apache.org/dist/spark/ and enter as the spark version\n",
        "spark_version = 'spark-3.2.2'\n",
        "\n",
        "os.environ['SPARK_VERSION']=spark_version\n",
        "\n",
        "# Install Spark and Java\n",
        "!apt-get update\n",
        "!apt-get install openjdk-8-jdk-headless -qq > /dev/null\n",
        "!wget -q http://www.apache.org/dist/spark/$SPARK_VERSION/$SPARK_VERSION-bin-hadoop2.7.tgz\n",
        "!tar xf $SPARK_VERSION-bin-hadoop2.7.tgz\n",
        "!pip install -q findspark\n",
        "\n",
        "# Set Environment Variables\n",
        "os.environ[\"JAVA_HOME\"] = \"/usr/lib/jvm/java-8-openjdk-amd64\"\n",
        "os.environ[\"SPARK_HOME\"] = f\"/content/{spark_version}-bin-hadoop2.7\"\n",
        "\n",
        "# Start a SparkSession\n",
        "import findspark\n",
        "findspark.init()"
      ]
    },
    {
      "cell_type": "code",
      "source": [
        "# Install the PostgreSQL driver in our Colab environment\n",
        "!wget https://jdbc.postgresql.org/download/postgresql-42.2.9.jar"
      ],
      "metadata": {
        "colab": {
          "base_uri": "https://localhost:8080/"
        },
        "id": "O3u17JiyByjn",
        "outputId": "088d22f8-5e09-432f-88a9-4ba80ed01a6c"
      },
      "execution_count": 2,
      "outputs": [
        {
          "output_type": "stream",
          "name": "stdout",
          "text": [
            "--2022-11-28 16:17:53--  https://jdbc.postgresql.org/download/postgresql-42.2.9.jar\n",
            "Resolving jdbc.postgresql.org (jdbc.postgresql.org)... 72.32.157.228, 2001:4800:3e1:1::228\n",
            "Connecting to jdbc.postgresql.org (jdbc.postgresql.org)|72.32.157.228|:443... connected.\n",
            "HTTP request sent, awaiting response... 200 OK\n",
            "Length: 914037 (893K) [application/java-archive]\n",
            "Saving to: ‘postgresql-42.2.9.jar’\n",
            "\n",
            "postgresql-42.2.9.j 100%[===================>] 892.61K  4.87MB/s    in 0.2s    \n",
            "\n",
            "2022-11-28 16:17:53 (4.87 MB/s) - ‘postgresql-42.2.9.jar’ saved [914037/914037]\n",
            "\n"
          ]
        }
      ]
    },
    {
      "cell_type": "code",
      "source": [
        "# Establish a Spark session and add the Postgres driver to the filepath\n",
        "from pyspark.sql import SparkSession\n",
        "spark = SparkSession.builder.appName(\"CloudETL\").config(\"spark.driver.extraClassPath\",\"/content/postgresql-42.2.9.jar\").getOrCreate()"
      ],
      "metadata": {
        "id": "luiXXxfYB9Ze"
      },
      "execution_count": 3,
      "outputs": []
    },
    {
      "cell_type": "code",
      "source": [
        "# Read the first CSV file from an S3 bucket\n",
        "from pyspark import SparkFiles\n",
        "url = \"https://s3.amazonaws.com/amazon-reviews-pds/tsv/amazon_reviews_us_Mobile_Electronics_v1_00.tsv.gz\"\n",
        "spark.sparkContext.addFile(url)\n",
        "mobile_df = spark.read.csv(SparkFiles.get(\"amazon_reviews_us_Mobile_Electronics_v1_00.tsv.gz\"), sep=\"\\t\", header=True, inferSchema=True)\n",
        "\n",
        "# Show DataFrame\n",
        "mobile_df.show()"
      ],
      "metadata": {
        "colab": {
          "base_uri": "https://localhost:8080/"
        },
        "id": "1Do4GofMCB-c",
        "outputId": "8319b06a-0959-4cde-8342-cb744baffaa2"
      },
      "execution_count": 6,
      "outputs": [
        {
          "output_type": "stream",
          "name": "stdout",
          "text": [
            "+-----------+-----------+--------------+----------+--------------+--------------------+------------------+-----------+-------------+-----------+----+-----------------+--------------------+--------------------+-----------+\n",
            "|marketplace|customer_id|     review_id|product_id|product_parent|       product_title|  product_category|star_rating|helpful_votes|total_votes|vine|verified_purchase|     review_headline|         review_body|review_date|\n",
            "+-----------+-----------+--------------+----------+--------------+--------------------+------------------+-----------+-------------+-----------+----+-----------------+--------------------+--------------------+-----------+\n",
            "|         US|   20422322| R8MEA6IGAHO0B|B00MC4CED8|     217304173|BlackVue DR600GW-PMP|Mobile_Electronics|          5|            0|          0|   N|                Y|         Very Happy!|As advertised. Ev...| 2015-08-31|\n",
            "|         US|   40835037|R31LOQ8JGLPRLK|B00OQMFG1Q|     137313254|GENSSI GSM / GPS ...|Mobile_Electronics|          5|            0|          1|   N|                Y|           five star|          it's great| 2015-08-31|\n",
            "|         US|   51469641|R2Y0MM9YE6OP3P|B00QERR5CY|      82850235|iXCC Multi pack L...|Mobile_Electronics|          5|            0|          0|   N|                Y|        great cables|These work great ...| 2015-08-31|\n",
            "|         US|    4332923| RRB9C05HDOD4O|B00QUFTPV4|     221169481|abcGoodefg® FBI C...|Mobile_Electronics|          4|            0|          0|   N|                Y|Work very well bu...|Work very well bu...| 2015-08-31|\n",
            "|         US|   44855305|R26I2RI1GFV8QG|B0067XVNTG|     563475445|Generic Car Dashb...|Mobile_Electronics|          2|            0|          0|   N|                Y|Cameras has batte...|Be careful with t...| 2015-08-31|\n",
            "|         US|    7846966| RY8DDL22YG4R5|B00KA6CCVY|     713636156|Aweek® Air Acoust...|Mobile_Electronics|          3|            0|          1|   N|                Y|It appears to be ...|It appears to be ...| 2015-08-31|\n",
            "|         US|   21299354|R2AT2426ZHFUHH|B00MJCDPM2|     754171872|Sentey LS-4460 B-...|Mobile_Electronics|          3|            0|          1|   N|                Y|Didn't love the f...|First one arrived...| 2015-08-31|\n",
            "|         US|   28902968|R3RRXU2R23NMQ9|B00ET5AWBY|     508373185|iPad Car Headrest...|Mobile_Electronics|          5|            0|          0|   N|                Y|          Five Stars|Worked great for ...| 2015-08-31|\n",
            "|         US|    2074438|R250PR8VJUZ62F|B00Z9K379C|     759387370|ANWING Waterproof...|Mobile_Electronics|          4|            0|          2|   N|                Y|          Four Stars|this is a very go...| 2015-08-31|\n",
            "|         US|   48701722| RBEMQ29WJBHYG|B00YO3UYXW|     913911909|Jensen MCR-100 Ca...|Mobile_Electronics|          5|          164|        168|   N|                Y|  I LOVE my recorder|I LOVE my recorde...| 2015-08-31|\n",
            "|         US|    2990247|R19VVIUT4BZCMT|B011W26BU2|     938399424|Bluetooth Speaker...|Mobile_Electronics|          5|            2|          2|   N|                Y|          Five Stars|Great sound great...| 2015-08-31|\n",
            "|         US|   52946117|R1DT8JJUQHUKUL|B00H8PI78C|     661515294|15Pcs DC 5V 85dB ...|Mobile_Electronics|          3|            0|          1|   N|                Y|More of a beeper ...|If what you want ...| 2015-08-31|\n",
            "|         US|   49359994| RLIL6S9OGM3YA|B00M49C6MK|      91176851|      Sentey Ls 4162|Mobile_Electronics|          5|            0|          0|   N|                Y|          Five Stars|             Love it| 2015-08-31|\n",
            "|         US|    4158732|R34EZZ68VYPHO0|B011Q291PK|     891142775|IcePACK 8 Can Ins...|Mobile_Electronics|          1|            1|          1|   N|                Y|            One Star|               Sucks| 2015-08-31|\n",
            "|         US|   18944032|R3TZNSOXS13SIG|B00W6OLUGQ|     577462547|DTK® AMI MDI MMI ...|Mobile_Electronics|          2|            1|          3|   N|                Y|           Two Stars|u need to plug in...| 2015-08-31|\n",
            "|         US|     279606|R12UBZT87UX3AP|B008MY1F8W|     680240984|INPA K+CAN K+DCAN...|Mobile_Electronics|          5|            2|          2|   N|                Y|          Five Stars|Worked with MHD F...| 2015-08-31|\n",
            "|         US|   10947966| R5KCRE927NYMU|B00KW3XNUE|     219920841|Magicfly Wireless...|Mobile_Electronics|          2|            0|          0|   N|                N|Battery Cover Poo...|Just arrived,  re...| 2015-08-31|\n",
            "|         US|   18387442| RT12RQFU0V2AX|B009NGR0AK|     254898339|Humminbird XNT 9 ...|Mobile_Electronics|          5|            1|          1|   N|                Y|        Works great.|I bought this uni...| 2015-08-31|\n",
            "|         US|   48950322|R2K0YQPV5W2SJ1|B011W26BU2|     938399424|Bluetooth Speaker...|Mobile_Electronics|          4|            2|          2|   N|                Y|A Lot of Sound In...|I am giving the s...| 2015-08-31|\n",
            "|         US|   48148197|R104MY31OKNGXH|B00PAP68WO|     366592530|Foxnovo 3.7V 380m...|Mobile_Electronics|          5|            0|          0|   N|                Y|          Five Stars|Met my applicatio...| 2015-08-31|\n",
            "+-----------+-----------+--------------+----------+--------------+--------------------+------------------+-----------+-------------+-----------+----+-----------------+--------------------+--------------------+-----------+\n",
            "only showing top 20 rows\n",
            "\n"
          ]
        }
      ]
    },
    {
      "cell_type": "code",
      "source": [
        "# Count number of rows\n",
        "print(mobile_df.count())"
      ],
      "metadata": {
        "colab": {
          "base_uri": "https://localhost:8080/"
        },
        "id": "Qsk-0mYtCSzH",
        "outputId": "d148832c-16e7-47fc-95ce-ce21906574cf"
      },
      "execution_count": 7,
      "outputs": [
        {
          "output_type": "stream",
          "name": "stdout",
          "text": [
            "104975\n"
          ]
        }
      ]
    },
    {
      "cell_type": "code",
      "source": [
        "# Drop incomplete rows and show updated count\n",
        "drop_na = mobile_df.dropna()\n",
        "print(drop_na.count())"
      ],
      "metadata": {
        "colab": {
          "base_uri": "https://localhost:8080/"
        },
        "id": "h6vjWf3DDR1I",
        "outputId": "209e350e-9f14-4e60-9da0-65194712f8a7"
      },
      "execution_count": 9,
      "outputs": [
        {
          "output_type": "stream",
          "name": "stdout",
          "text": [
            "104972\n"
          ]
        }
      ]
    },
    {
      "cell_type": "code",
      "source": [
        "# Drop duplicates and show updated count\n",
        "drop_duplicates = drop_na.dropDuplicates()\n",
        "print(drop_duplicates.count())"
      ],
      "metadata": {
        "colab": {
          "base_uri": "https://localhost:8080/"
        },
        "id": "NQO4_Z74DWER",
        "outputId": "3711d33c-2eee-4361-d0a8-8c7c7cb9e831"
      },
      "execution_count": 10,
      "outputs": [
        {
          "output_type": "stream",
          "name": "stdout",
          "text": [
            "104972\n"
          ]
        }
      ]
    },
    {
      "cell_type": "code",
      "source": [
        "# Check schema\n",
        "drop_duplicates.printSchema()"
      ],
      "metadata": {
        "colab": {
          "base_uri": "https://localhost:8080/"
        },
        "id": "-8y03OAsDdse",
        "outputId": "0888aa3b-c624-4d01-c97c-1fdb4b7662e3"
      },
      "execution_count": 11,
      "outputs": [
        {
          "output_type": "stream",
          "name": "stdout",
          "text": [
            "root\n",
            " |-- marketplace: string (nullable = true)\n",
            " |-- customer_id: integer (nullable = true)\n",
            " |-- review_id: string (nullable = true)\n",
            " |-- product_id: string (nullable = true)\n",
            " |-- product_parent: integer (nullable = true)\n",
            " |-- product_title: string (nullable = true)\n",
            " |-- product_category: string (nullable = true)\n",
            " |-- star_rating: integer (nullable = true)\n",
            " |-- helpful_votes: integer (nullable = true)\n",
            " |-- total_votes: integer (nullable = true)\n",
            " |-- vine: string (nullable = true)\n",
            " |-- verified_purchase: string (nullable = true)\n",
            " |-- review_headline: string (nullable = true)\n",
            " |-- review_body: string (nullable = true)\n",
            " |-- review_date: string (nullable = true)\n",
            "\n"
          ]
        }
      ]
    },
    {
      "cell_type": "code",
      "source": [
        "from pyspark.sql.functions import *"
      ],
      "metadata": {
        "id": "oQXNN_pODp9I"
      },
      "execution_count": 12,
      "outputs": []
    },
    {
      "cell_type": "code",
      "source": [
        "drop_duplicates = drop_duplicates.withColumn(\"review_date\", to_date(col('review_date'), 'yyyy-mm-dd'))"
      ],
      "metadata": {
        "id": "XAmZ1pDRDt1t"
      },
      "execution_count": 13,
      "outputs": []
    },
    {
      "cell_type": "code",
      "source": [
        "drop_duplicates.printSchema()"
      ],
      "metadata": {
        "colab": {
          "base_uri": "https://localhost:8080/"
        },
        "id": "d5aaa8ppDwUe",
        "outputId": "f5e2eaf2-48f7-421a-c29b-1e55f0456613"
      },
      "execution_count": 14,
      "outputs": [
        {
          "output_type": "stream",
          "name": "stdout",
          "text": [
            "root\n",
            " |-- marketplace: string (nullable = true)\n",
            " |-- customer_id: integer (nullable = true)\n",
            " |-- review_id: string (nullable = true)\n",
            " |-- product_id: string (nullable = true)\n",
            " |-- product_parent: integer (nullable = true)\n",
            " |-- product_title: string (nullable = true)\n",
            " |-- product_category: string (nullable = true)\n",
            " |-- star_rating: integer (nullable = true)\n",
            " |-- helpful_votes: integer (nullable = true)\n",
            " |-- total_votes: integer (nullable = true)\n",
            " |-- vine: string (nullable = true)\n",
            " |-- verified_purchase: string (nullable = true)\n",
            " |-- review_headline: string (nullable = true)\n",
            " |-- review_body: string (nullable = true)\n",
            " |-- review_date: date (nullable = true)\n",
            "\n"
          ]
        }
      ]
    },
    {
      "cell_type": "code",
      "source": [
        "# Transform dataset to fit schema\n",
        "mobile_review_id_df = drop_duplicates.select(['review_id', 'customer_id', 'product_id', 'product_parent', 'review_date'])\n",
        "mobile_review_id_df.show()"
      ],
      "metadata": {
        "colab": {
          "base_uri": "https://localhost:8080/"
        },
        "id": "pvxEiPJODyjJ",
        "outputId": "aaa9f4b8-096f-478a-95be-57f35f75b134"
      },
      "execution_count": 15,
      "outputs": [
        {
          "output_type": "stream",
          "name": "stdout",
          "text": [
            "+--------------+-----------+----------+--------------+-----------+\n",
            "|     review_id|customer_id|product_id|product_parent|review_date|\n",
            "+--------------+-----------+----------+--------------+-----------+\n",
            "| R5I2YBT9J85FF|   32397073|B011W26BU2|     938399424| 2015-01-31|\n",
            "|R2W7SNCOCHAVOK|    2476375|B00XHAR9GI|     820413549| 2015-01-31|\n",
            "|R1ED9U68DFV8V4|    2265767|B00J46XO9U|     744008282| 2015-01-28|\n",
            "|R1JP6MNSIT0U2D|   45101321|B012C5XYHQ|     869734493| 2015-01-26|\n",
            "|R34Z5GSD6QVJC0|   45941344|B00VU7PLZG|     973149575| 2015-01-26|\n",
            "|R3FAV28GYZDFNS|   48325083|B00JJ1QBMW|     922547736| 2015-01-23|\n",
            "|R1YTJAG0C7P2AZ|   23746886|0528007262|     513854777| 2015-01-17|\n",
            "|R3CDVZ6UANW970|   19066740|B00QERR5CY|      82850235| 2015-01-14|\n",
            "|R2S8VQ5ULUYZ78|   25870736|B002MYFAMA|     196145088| 2015-01-13|\n",
            "|R1P1JSHR67KIZC|   24437477|B0126LLXGA|     490339933| 2015-01-13|\n",
            "|R3UO8GRRT862EQ|   36297498|B00BHZT710|      27670198| 2015-01-11|\n",
            "|R2I27L6J4U50D0|   29622286|B00XULD8GO|     399663747| 2015-01-09|\n",
            "|R33W6ODHU78OOY|   12130081|B002IUG14O|     205072865| 2015-01-29|\n",
            "| R4XW7GMHJASHT|   33942030|B00S0M9YK2|     290338806| 2015-01-21|\n",
            "| REJQN5Y0TI7M3|   50523342|B00B4E9764|       8682364| 2015-01-19|\n",
            "|R3OE2VL7WLD8ME|   44920940|B00JP7TCDK|     987522321| 2015-01-18|\n",
            "|R2IJ5U5XAR3S3R|   27721641|B00J46XO9U|     744008282| 2015-01-17|\n",
            "|R1IPDXWWIVI9ZH|   10953160|B00J46XO9U|     744008282| 2015-01-17|\n",
            "| RMPTTS2TJ4ULU|   14212058|B001Q5DQOU|     340841840| 2015-01-15|\n",
            "|R3W3TRUPP8MJUN|   42309994|B0063XRTKC|     536540278| 2015-01-14|\n",
            "+--------------+-----------+----------+--------------+-----------+\n",
            "only showing top 20 rows\n",
            "\n"
          ]
        }
      ]
    },
    {
      "cell_type": "code",
      "source": [
        "mobile_products_df = drop_duplicates.select(['product_id', 'product_title'])\n",
        "mobile_products_df.show()"
      ],
      "metadata": {
        "colab": {
          "base_uri": "https://localhost:8080/"
        },
        "id": "86G4D4KBD5qf",
        "outputId": "9089cd86-281f-4257-ae0b-07851eed2e92"
      },
      "execution_count": 16,
      "outputs": [
        {
          "output_type": "stream",
          "name": "stdout",
          "text": [
            "+----------+--------------------+\n",
            "|product_id|       product_title|\n",
            "+----------+--------------------+\n",
            "|B011W26BU2|Bluetooth Speaker...|\n",
            "|B00XHAR9GI|Towallmark 7\" HD ...|\n",
            "|B00J46XO9U|iXCC Lightning Ca...|\n",
            "|B012C5XYHQ|Apple Ipod Nano 7...|\n",
            "|B00VU7PLZG|[New Element Seri...|\n",
            "|B00JJ1QBMW|DgRock® MRB600 Mi...|\n",
            "|0528007262|Rand McNally TND ...|\n",
            "|B00QERR5CY|iXCC Multi pack L...|\n",
            "|B002MYFAMA|Buck Algonquin Da...|\n",
            "|B0126LLXGA|Outdoor Bluetooth...|\n",
            "|B00BHZT710|Tram Satellite Ra...|\n",
            "|B00XULD8GO|Pyramid W64 6.5\" ...|\n",
            "|B002IUG14O|Garmin Nuvi Winds...|\n",
            "|B00S0M9YK2|G.G.Martinsen 32 ...|\n",
            "|B00B4E9764|BlackVue Wi-Fi DR...|\n",
            "|B00JP7TCDK|EC TECHNOLOGY? Ne...|\n",
            "|B00J46XO9U|iXCC Lightning Ca...|\n",
            "|B00J46XO9U|iXCC Lightning Ca...|\n",
            "|B001Q5DQOU|Sirius Radio Dot ...|\n",
            "|B0063XRTKC|iPod touch 2/3 Ca...|\n",
            "+----------+--------------------+\n",
            "only showing top 20 rows\n",
            "\n"
          ]
        }
      ]
    },
    {
      "cell_type": "code",
      "source": [
        "mobile_products_df = mobile_products_df.dropDuplicates(['product_id', 'product_title'])\n",
        "mobile_products_df.show()"
      ],
      "metadata": {
        "colab": {
          "base_uri": "https://localhost:8080/"
        },
        "id": "C3lbVr0cF-nU",
        "outputId": "d329b88f-f0b4-4c9b-96d6-7056616e5310"
      },
      "execution_count": 23,
      "outputs": [
        {
          "output_type": "stream",
          "name": "stdout",
          "text": [
            "+----------+--------------------+\n",
            "|product_id|       product_title|\n",
            "+----------+--------------------+\n",
            "|B01075GRAO|ANYSECU QYT KT890...|\n",
            "|B00QVXNV60|BRG AH2000G-ANR A...|\n",
            "|B004ECO5VA|Holux Mini Smart ...|\n",
            "|B00LGNKLXG|Aweek® Car Antenn...|\n",
            "|B00M1Y87I0|      sentey ls 4063|\n",
            "|B002ABX29I|Micca Slim Portab...|\n",
            "|B00XXA2T2G|Centurion GT1 Car...|\n",
            "|B00Q5A5PD6|HYUNDAI HCR-580 V...|\n",
            "|B00VFEK8IY|Z ZTDM Mini Stere...|\n",
            "|B00L85M8VU|Settonbrothers Ul...|\n",
            "|B00SUXD5GU|[NEW RELEASE] JEB...|\n",
            "|B00KJ7MVYW|Fincibo (TM) Appl...|\n",
            "|B00A6YQQS0|Minisuit Aero Fol...|\n",
            "|B009S99IYI|PIO TSG1644R 6.5 ...|\n",
            "|B006PAZCXY|eForCity® Anti-Gl...|\n",
            "|B00OXD61OE|SHE'O® 2x Cool No...|\n",
            "|B000IBMI1K|RCA 200-Watt Mono...|\n",
            "|B00UN6955M|Aisster(TM) Lot 1...|\n",
            "|B00V684NCQ|LSD 8GB Flash Dri...|\n",
            "|B00A609WOO|eForCity Hybrid S...|\n",
            "+----------+--------------------+\n",
            "only showing top 20 rows\n",
            "\n"
          ]
        }
      ]
    },
    {
      "cell_type": "code",
      "source": [
        "mobile_customers = drop_duplicates.groupBy('customer_id').count()\n",
        "mobile_customers_df = mobile_customers.withColumnRenamed('count', 'customer_count')\n",
        "mobile_customers_df.show()"
      ],
      "metadata": {
        "colab": {
          "base_uri": "https://localhost:8080/"
        },
        "id": "idS5kUtEEBwV",
        "outputId": "ccd42b77-7613-4f45-90f0-70d72260e01c"
      },
      "execution_count": 19,
      "outputs": [
        {
          "output_type": "stream",
          "name": "stdout",
          "text": [
            "+-----------+--------------+\n",
            "|customer_id|customer_count|\n",
            "+-----------+--------------+\n",
            "|   11990227|             1|\n",
            "|   12704032|             1|\n",
            "|   23671289|             1|\n",
            "|   14745975|             1|\n",
            "|    3179193|             1|\n",
            "|    2516709|             1|\n",
            "|   16959619|             1|\n",
            "|   31166502|             1|\n",
            "|   33149353|             1|\n",
            "|   45838973|             1|\n",
            "|   10313569|             1|\n",
            "|   49419305|             1|\n",
            "|   51588676|             2|\n",
            "|   44296544|             1|\n",
            "|   11954795|             1|\n",
            "|     538703|             1|\n",
            "|   22485819|             1|\n",
            "|   38079859|             1|\n",
            "|   50328739|             1|\n",
            "|   19396045|             1|\n",
            "+-----------+--------------+\n",
            "only showing top 20 rows\n",
            "\n"
          ]
        }
      ]
    },
    {
      "cell_type": "code",
      "source": [
        "mobile_vine_df = drop_duplicates.select(['review_id', 'star_rating', 'helpful_votes', 'total_votes', 'vine'])\n",
        "mobile_vine_df.show()"
      ],
      "metadata": {
        "colab": {
          "base_uri": "https://localhost:8080/"
        },
        "id": "FmFIiahAEOfc",
        "outputId": "fa275759-1f99-4bb8-a4ec-e641e9c04d3b"
      },
      "execution_count": 20,
      "outputs": [
        {
          "output_type": "stream",
          "name": "stdout",
          "text": [
            "+--------------+-----------+-------------+-----------+----+\n",
            "|     review_id|star_rating|helpful_votes|total_votes|vine|\n",
            "+--------------+-----------+-------------+-----------+----+\n",
            "| R5I2YBT9J85FF|          5|            2|          2|   N|\n",
            "|R2W7SNCOCHAVOK|          5|            0|          1|   N|\n",
            "|R1ED9U68DFV8V4|          1|            0|          0|   N|\n",
            "|R1JP6MNSIT0U2D|          1|            5|          6|   N|\n",
            "|R34Z5GSD6QVJC0|          5|            0|          0|   N|\n",
            "|R3FAV28GYZDFNS|          1|            0|          0|   N|\n",
            "|R1YTJAG0C7P2AZ|          5|            0|          0|   N|\n",
            "|R3CDVZ6UANW970|          5|            0|          0|   N|\n",
            "|R2S8VQ5ULUYZ78|          5|            0|          0|   N|\n",
            "|R1P1JSHR67KIZC|          5|            0|          0|   N|\n",
            "|R3UO8GRRT862EQ|          5|            1|          1|   N|\n",
            "|R2I27L6J4U50D0|          5|            0|          0|   N|\n",
            "|R33W6ODHU78OOY|          2|            0|          0|   N|\n",
            "| R4XW7GMHJASHT|          3|            0|          0|   N|\n",
            "| REJQN5Y0TI7M3|          1|            1|          1|   N|\n",
            "|R3OE2VL7WLD8ME|          1|            0|          1|   N|\n",
            "|R2IJ5U5XAR3S3R|          5|            0|          0|   N|\n",
            "|R1IPDXWWIVI9ZH|          4|            0|          0|   N|\n",
            "| RMPTTS2TJ4ULU|          5|            0|          0|   N|\n",
            "|R3W3TRUPP8MJUN|          5|            0|          0|   N|\n",
            "+--------------+-----------+-------------+-----------+----+\n",
            "only showing top 20 rows\n",
            "\n"
          ]
        }
      ]
    },
    {
      "cell_type": "code",
      "source": [
        "# Define AWS RDS parameters - Parameters deleted for submission - Please fill in appropriate values before running\n",
        "my_aws_endpoint = \n",
        "my_aws_port_number = \n",
        "my_aws_database_name = \n",
        "my_aws_username = \n",
        "my_aws_password = "
      ],
      "metadata": {
        "id": "WKf7WiJHEjYg"
      },
      "execution_count": 21,
      "outputs": []
    },
    {
      "cell_type": "code",
      "source": [
        "# Define the connection string\n",
        "jdbc_url=f'jdbc:postgresql://{my_aws_endpoint}:{my_aws_port_number}/{my_aws_database_name}'\n",
        "\n",
        "# Set up the configuration parameters\n",
        "config = {\"user\": f'{my_aws_username}', \n",
        "          \"password\": f'{my_aws_password}', \n",
        "          \"driver\":\"org.postgresql.Driver\"}\n",
        "\n",
        "mode = 'append'"
      ],
      "metadata": {
        "id": "oh2kRKpkEm84"
      },
      "execution_count": 22,
      "outputs": []
    },
    {
      "cell_type": "code",
      "source": [
        "# Write the dataframe to the appropriate table in your PostgreSQL RDS\n",
        "mobile_review_id_df.write.jdbc(url = jdbc_url, table = 'review_id_table', mode = mode, properties = config)"
      ],
      "metadata": {
        "id": "JdkkGMpzEphW"
      },
      "execution_count": null,
      "outputs": []
    },
    {
      "cell_type": "code",
      "source": [
        "# Write the dataframe to the appropriate table in your PostgreSQL RDS\n",
        "mobile_products_df.write.jdbc(url = jdbc_url, table = 'products', mode = mode, properties = config)"
      ],
      "metadata": {
        "id": "6t2RW2V1EsGA"
      },
      "execution_count": null,
      "outputs": []
    },
    {
      "cell_type": "code",
      "source": [
        "# Write the dataframe to the appropriate table in your PostgreSQL RDS\n",
        "mobile_customers_df.write.jdbc(url = jdbc_url, table = 'customers', mode = mode, properties = config)"
      ],
      "metadata": {
        "id": "ZVBPwG-AEwLM"
      },
      "execution_count": null,
      "outputs": []
    },
    {
      "cell_type": "code",
      "source": [
        "# Write the dataframe to the appropriate table in your PostgreSQL RDS\n",
        "mobile_vine_df.write.jdbc(url = jdbc_url, table = 'vine_table', mode = mode, properties = config)"
      ],
      "metadata": {
        "id": "BpZiOI4jEylW"
      },
      "execution_count": null,
      "outputs": []
    }
  ]
}