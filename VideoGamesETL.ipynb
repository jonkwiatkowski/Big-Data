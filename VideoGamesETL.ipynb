{
  "nbformat": 4,
  "nbformat_minor": 0,
  "metadata": {
    "colab": {
      "provenance": []
    },
    "kernelspec": {
      "name": "python3",
      "display_name": "Python 3"
    },
    "language_info": {
      "name": "python"
    }
  },
  "cells": [
    {
      "cell_type": "code",
      "execution_count": 2,
      "metadata": {
        "colab": {
          "base_uri": "https://localhost:8080/"
        },
        "id": "e97e9C5YDhR0",
        "outputId": "c9e993af-795d-41a7-8e18-dc32370415da"
      },
      "outputs": [
        {
          "output_type": "stream",
          "name": "stdout",
          "text": [
            "Get:1 http://security.ubuntu.com/ubuntu bionic-security InRelease [88.7 kB]\n",
            "Get:2 https://cloud.r-project.org/bin/linux/ubuntu bionic-cran40/ InRelease [3,626 B]\n",
            "Hit:3 http://archive.ubuntu.com/ubuntu bionic InRelease\n",
            "Ign:4 https://developer.download.nvidia.com/compute/machine-learning/repos/ubuntu1804/x86_64  InRelease\n",
            "Get:5 https://developer.download.nvidia.com/compute/cuda/repos/ubuntu1804/x86_64  InRelease [1,581 B]\n",
            "Hit:6 https://developer.download.nvidia.com/compute/machine-learning/repos/ubuntu1804/x86_64  Release\n",
            "Hit:7 http://ppa.launchpad.net/c2d4u.team/c2d4u4.0+/ubuntu bionic InRelease\n",
            "Get:8 http://archive.ubuntu.com/ubuntu bionic-updates InRelease [88.7 kB]\n",
            "Hit:9 http://ppa.launchpad.net/cran/libgit2/ubuntu bionic InRelease\n",
            "Get:10 http://archive.ubuntu.com/ubuntu bionic-backports InRelease [83.3 kB]\n",
            "Hit:11 http://ppa.launchpad.net/deadsnakes/ppa/ubuntu bionic InRelease\n",
            "Hit:12 http://ppa.launchpad.net/graphics-drivers/ppa/ubuntu bionic InRelease\n",
            "Get:13 http://security.ubuntu.com/ubuntu bionic-security/universe amd64 Packages [1,563 kB]\n",
            "Get:14 http://security.ubuntu.com/ubuntu bionic-security/main amd64 Packages [3,068 kB]\n",
            "Get:15 https://developer.download.nvidia.com/compute/cuda/repos/ubuntu1804/x86_64  Packages [1,038 kB]\n",
            "Get:17 http://archive.ubuntu.com/ubuntu bionic-updates/universe amd64 Packages [2,338 kB]\n",
            "Get:18 http://archive.ubuntu.com/ubuntu bionic-updates/restricted amd64 Packages [1,303 kB]\n",
            "Get:19 http://archive.ubuntu.com/ubuntu bionic-updates/main amd64 Packages [3,496 kB]\n",
            "Fetched 13.1 MB in 6s (2,131 kB/s)\n",
            "Reading package lists... Done\n"
          ]
        }
      ],
      "source": [
        "import os\n",
        "# Find the latest version of spark 3.2.x  from http://www.apache.org/dist/spark/ and enter as the spark version\n",
        "spark_version = 'spark-3.2.2'\n",
        "\n",
        "os.environ['SPARK_VERSION']=spark_version\n",
        "\n",
        "# Install Spark and Java\n",
        "!apt-get update\n",
        "!apt-get install openjdk-8-jdk-headless -qq > /dev/null\n",
        "!wget -q http://www.apache.org/dist/spark/$SPARK_VERSION/$SPARK_VERSION-bin-hadoop2.7.tgz\n",
        "!tar xf $SPARK_VERSION-bin-hadoop2.7.tgz\n",
        "!pip install -q findspark\n",
        "\n",
        "# Set Environment Variables\n",
        "os.environ[\"JAVA_HOME\"] = \"/usr/lib/jvm/java-8-openjdk-amd64\"\n",
        "os.environ[\"SPARK_HOME\"] = f\"/content/{spark_version}-bin-hadoop2.7\"\n",
        "\n",
        "# Start a SparkSession\n",
        "import findspark\n",
        "findspark.init()"
      ]
    },
    {
      "cell_type": "code",
      "source": [
        "# Install the PostgreSQL driver in our Colab environment\n",
        "!wget https://jdbc.postgresql.org/download/postgresql-42.2.9.jar"
      ],
      "metadata": {
        "colab": {
          "base_uri": "https://localhost:8080/"
        },
        "id": "6nl7yJOvabmE",
        "outputId": "a3e6d9f5-6ded-4c7d-ad88-285e29c96fbe"
      },
      "execution_count": 3,
      "outputs": [
        {
          "output_type": "stream",
          "name": "stdout",
          "text": [
            "--2022-11-28 04:57:33--  https://jdbc.postgresql.org/download/postgresql-42.2.9.jar\n",
            "Resolving jdbc.postgresql.org (jdbc.postgresql.org)... 72.32.157.228, 2001:4800:3e1:1::228\n",
            "Connecting to jdbc.postgresql.org (jdbc.postgresql.org)|72.32.157.228|:443... connected.\n",
            "HTTP request sent, awaiting response... 200 OK\n",
            "Length: 914037 (893K) [application/java-archive]\n",
            "Saving to: ‘postgresql-42.2.9.jar’\n",
            "\n",
            "postgresql-42.2.9.j 100%[===================>] 892.61K  5.77MB/s    in 0.2s    \n",
            "\n",
            "2022-11-28 04:57:33 (5.77 MB/s) - ‘postgresql-42.2.9.jar’ saved [914037/914037]\n",
            "\n"
          ]
        }
      ]
    },
    {
      "cell_type": "code",
      "source": [
        "# Establish a Spark session and add the Postgres driver to the filepath\n",
        "from pyspark.sql import SparkSession\n",
        "spark = SparkSession.builder.appName(\"CloudETL\").config(\"spark.driver.extraClassPath\",\"/content/postgresql-42.2.9.jar\").getOrCreate()"
      ],
      "metadata": {
        "id": "yOBRw5-pazNd"
      },
      "execution_count": 4,
      "outputs": []
    },
    {
      "cell_type": "code",
      "source": [
        "# Read the first CSV file from an S3 bucket\n",
        "from pyspark import SparkFiles\n",
        "url = \"https://s3.amazonaws.com/amazon-reviews-pds/tsv/amazon_reviews_us_Video_Games_v1_00.tsv.gz\"\n",
        "spark.sparkContext.addFile(url)\n",
        "video_game_df = spark.read.csv(SparkFiles.get(\"amazon_reviews_us_Video_Games_v1_00.tsv.gz\"), sep=\"\\t\", header=True, inferSchema=True)\n",
        "\n",
        "# Show DataFrame\n",
        "video_game_df.show()"
      ],
      "metadata": {
        "colab": {
          "base_uri": "https://localhost:8080/"
        },
        "id": "Zj0zretOa3wS",
        "outputId": "0dc9da8f-dd3d-497b-9404-a7742193e108"
      },
      "execution_count": 5,
      "outputs": [
        {
          "output_type": "stream",
          "name": "stdout",
          "text": [
            "+-----------+-----------+--------------+----------+--------------+--------------------+----------------+-----------+-------------+-----------+----+-----------------+--------------------+--------------------+-----------+\n",
            "|marketplace|customer_id|     review_id|product_id|product_parent|       product_title|product_category|star_rating|helpful_votes|total_votes|vine|verified_purchase|     review_headline|         review_body|review_date|\n",
            "+-----------+-----------+--------------+----------+--------------+--------------------+----------------+-----------+-------------+-----------+----+-----------------+--------------------+--------------------+-----------+\n",
            "|         US|   12039526| RTIS3L2M1F5SM|B001CXYMFS|     737716809|Thrustmaster T-Fl...|     Video Games|          5|            0|          0|   N|                Y|an amazing joysti...|Used this for Eli...| 2015-08-31|\n",
            "|         US|    9636577| R1ZV7R40OLHKD|B00M920ND6|     569686175|Tonsee 6 buttons ...|     Video Games|          5|            0|          0|   N|                Y|Definitely a sile...|Loved it,  I didn...| 2015-08-31|\n",
            "|         US|    2331478|R3BH071QLH8QMC|B0029CSOD2|      98937668|Hidden Mysteries:...|     Video Games|          1|            0|          1|   N|                Y|            One Star|poor quality work...| 2015-08-31|\n",
            "|         US|   52495923|R127K9NTSXA2YH|B00GOOSV98|      23143350|GelTabz Performan...|     Video Games|          3|            0|          0|   N|                Y|good, but could b...|nice, but tend to...| 2015-08-31|\n",
            "|         US|   14533949|R32ZWUXDJPW27Q|B00Y074JOM|     821342511|Zero Suit Samus a...|     Video Games|          4|            0|          0|   N|                Y|   Great but flawed.|Great amiibo, gre...| 2015-08-31|\n",
            "|         US|    2377552|R3AQQ4YUKJWBA6|B002UBI6W6|     328764615|Psyclone Recharge...|     Video Games|          1|            0|          0|   N|                Y|            One Star|The remote consta...| 2015-08-31|\n",
            "|         US|   17521011|R2F0POU5K6F73F|B008XHCLFO|      24234603|Protection for yo...|     Video Games|          5|            0|          0|   N|                Y|              A Must|I have a 2012-201...| 2015-08-31|\n",
            "|         US|   19676307|R3VNR804HYSMR6|B00BRA9R6A|     682267517|   Nerf 3DS XL Armor|     Video Games|          5|            0|          0|   N|                Y|          Five Stars|Perfect, kids lov...| 2015-08-31|\n",
            "|         US|     224068| R3GZTM72WA2QH|B009EPWJLA|     435241890|One Piece: Pirate...|     Video Games|          5|            0|          0|   N|                Y|          Five Stars|            Excelent| 2015-08-31|\n",
            "|         US|   48467989| RNQOY62705W1K|B0000AV7GB|     256572651|Playstation 2 Dan...|     Video Games|          4|            0|          0|   N|                Y|          Four Stars|Slippery but expe...| 2015-08-31|\n",
            "|         US|     106569|R1VTIA3JTYBY02|B00008KTNN|     384411423|Metal Arms: Glitc...|     Video Games|          5|            0|          0|   N|                N|          Five Stars|Love the game. Se...| 2015-08-31|\n",
            "|         US|   48269642|R29DOU8791QZL8|B000A3IA0Y|     472622859|72 Pin Connector ...|     Video Games|          1|            0|          0|   N|                Y| Game will get stuck|Does not fit prop...| 2015-08-31|\n",
            "|         US|   52738710|R15DUT1VIJ9RJZ|B0053BQN34|     577628462|uDraw Gametablet ...|     Video Games|          2|            0|          0|   N|                Y|We have tried it ...|This was way too ...| 2015-08-31|\n",
            "|         US|   10556786|R3IMF2MQ3OU9ZM|B002I0HIMI|     988218515|NBA 2K12(Covers M...|     Video Games|          4|            0|          0|   N|                Y|          Four Stars|Works great good ...| 2015-08-31|\n",
            "|         US|    2963837|R23H79DHOZTYAU|B0081EH12M|     770100932|New Trigger Grips...|     Video Games|          1|            1|          1|   N|                Y|Now i have to buy...|It did not fit th...| 2015-08-31|\n",
            "|         US|   23092109| RIV24EQAIXA4O|B005FMLZQQ|      24647669|Xbox 360 Media Re...|     Video Games|          5|            0|          0|   N|                Y|          Five Stars|perfect lightweig...| 2015-08-31|\n",
            "|         US|   23091728|R3UCNGYDVN24YB|B002BSA388|      33706205|Super Mario Galaxy 2|     Video Games|          5|            0|          0|   N|                Y|          Five Stars|               great| 2015-08-31|\n",
            "|         US|   10712640| RUL4H4XTTN2DY|B00BUSLSAC|     829667834|Nintendo 3DS XL -...|     Video Games|          5|            0|          0|   N|                Y|          Five Stars|Works beautifully...| 2015-08-31|\n",
            "|         US|   17455376|R20JF7Z4DHTNX5|B00KWF38AW|     110680188|Captain Toad:  Tr...|     Video Games|          5|            0|          0|   N|                Y|          Five Stars|Kids loved the ga...| 2015-08-31|\n",
            "|         US|   14754850|R2T1AJ5MFI2260|B00BRQJYA8|     616463426|Lego Batman 2: DC...|     Video Games|          4|            0|          0|   N|                Y|          Four Stars|           Goodngame| 2015-08-31|\n",
            "+-----------+-----------+--------------+----------+--------------+--------------------+----------------+-----------+-------------+-----------+----+-----------------+--------------------+--------------------+-----------+\n",
            "only showing top 20 rows\n",
            "\n"
          ]
        }
      ]
    },
    {
      "cell_type": "code",
      "source": [
        "# Count number of rows\n",
        "print(video_game_df.count())"
      ],
      "metadata": {
        "colab": {
          "base_uri": "https://localhost:8080/"
        },
        "id": "OUy_lEFychXI",
        "outputId": "4fa0e2e9-2f61-4f6f-8473-7c3bfb306649"
      },
      "execution_count": 6,
      "outputs": [
        {
          "output_type": "stream",
          "name": "stdout",
          "text": [
            "1785997\n"
          ]
        }
      ]
    },
    {
      "cell_type": "code",
      "source": [
        "# Drop incomplete rows and show updated count\n",
        "drop_na = video_game_df.dropna()\n",
        "print(drop_na.count())"
      ],
      "metadata": {
        "colab": {
          "base_uri": "https://localhost:8080/"
        },
        "id": "ZMvMq5mniIMH",
        "outputId": "ab78e5ca-5b42-4aaf-f688-7239524197c4"
      },
      "execution_count": 7,
      "outputs": [
        {
          "output_type": "stream",
          "name": "stdout",
          "text": [
            "1785886\n"
          ]
        }
      ]
    },
    {
      "cell_type": "code",
      "source": [
        "# Drop duplicates and show updated count\n",
        "drop_duplicates = drop_na.dropDuplicates()\n",
        "print(drop_duplicates.count())"
      ],
      "metadata": {
        "colab": {
          "base_uri": "https://localhost:8080/"
        },
        "id": "TdWvyYlNid2D",
        "outputId": "b450d23b-9573-41bf-e8b2-478728282d0b"
      },
      "execution_count": 8,
      "outputs": [
        {
          "output_type": "stream",
          "name": "stdout",
          "text": [
            "1785886\n"
          ]
        }
      ]
    },
    {
      "cell_type": "code",
      "source": [
        "# Check schema\n",
        "drop_duplicates.printSchema()"
      ],
      "metadata": {
        "colab": {
          "base_uri": "https://localhost:8080/"
        },
        "id": "wUiSbk9bvSqq",
        "outputId": "44c854eb-3531-4db5-dda5-bc37395b484c"
      },
      "execution_count": 9,
      "outputs": [
        {
          "output_type": "stream",
          "name": "stdout",
          "text": [
            "root\n",
            " |-- marketplace: string (nullable = true)\n",
            " |-- customer_id: integer (nullable = true)\n",
            " |-- review_id: string (nullable = true)\n",
            " |-- product_id: string (nullable = true)\n",
            " |-- product_parent: integer (nullable = true)\n",
            " |-- product_title: string (nullable = true)\n",
            " |-- product_category: string (nullable = true)\n",
            " |-- star_rating: integer (nullable = true)\n",
            " |-- helpful_votes: integer (nullable = true)\n",
            " |-- total_votes: integer (nullable = true)\n",
            " |-- vine: string (nullable = true)\n",
            " |-- verified_purchase: string (nullable = true)\n",
            " |-- review_headline: string (nullable = true)\n",
            " |-- review_body: string (nullable = true)\n",
            " |-- review_date: string (nullable = true)\n",
            "\n"
          ]
        }
      ]
    },
    {
      "cell_type": "code",
      "source": [
        "from pyspark.sql.functions import *"
      ],
      "metadata": {
        "id": "kybzO4BRxVyC"
      },
      "execution_count": 10,
      "outputs": []
    },
    {
      "cell_type": "code",
      "source": [
        "drop_duplicates = drop_duplicates.withColumn(\"review_date\", to_date(col('review_date'), 'yyyy-mm-dd'))"
      ],
      "metadata": {
        "id": "WD4eDyZf2PpQ"
      },
      "execution_count": 11,
      "outputs": []
    },
    {
      "cell_type": "code",
      "source": [
        "drop_duplicates.printSchema()"
      ],
      "metadata": {
        "colab": {
          "base_uri": "https://localhost:8080/"
        },
        "id": "3dxp6qrG6mF7",
        "outputId": "0678ef27-6d49-4384-fd63-7fc22e5edc6d"
      },
      "execution_count": 12,
      "outputs": [
        {
          "output_type": "stream",
          "name": "stdout",
          "text": [
            "root\n",
            " |-- marketplace: string (nullable = true)\n",
            " |-- customer_id: integer (nullable = true)\n",
            " |-- review_id: string (nullable = true)\n",
            " |-- product_id: string (nullable = true)\n",
            " |-- product_parent: integer (nullable = true)\n",
            " |-- product_title: string (nullable = true)\n",
            " |-- product_category: string (nullable = true)\n",
            " |-- star_rating: integer (nullable = true)\n",
            " |-- helpful_votes: integer (nullable = true)\n",
            " |-- total_votes: integer (nullable = true)\n",
            " |-- vine: string (nullable = true)\n",
            " |-- verified_purchase: string (nullable = true)\n",
            " |-- review_headline: string (nullable = true)\n",
            " |-- review_body: string (nullable = true)\n",
            " |-- review_date: date (nullable = true)\n",
            "\n"
          ]
        }
      ]
    },
    {
      "cell_type": "code",
      "source": [
        "# Transform dataset to fit schema\n",
        "video_game_review_id_df = drop_duplicates.select(['review_id', 'customer_id', 'product_id', 'product_parent', 'review_date'])\n",
        "video_game_review_id_df.show()"
      ],
      "metadata": {
        "colab": {
          "base_uri": "https://localhost:8080/"
        },
        "id": "_O9fG4_pi_7P",
        "outputId": "bf7fe5de-deae-4c0d-f8ef-dcd63cde4a59"
      },
      "execution_count": 13,
      "outputs": [
        {
          "output_type": "stream",
          "name": "stdout",
          "text": [
            "+--------------+-----------+----------+--------------+-----------+\n",
            "|     review_id|customer_id|product_id|product_parent|review_date|\n",
            "+--------------+-----------+----------+--------------+-----------+\n",
            "|R10010D6B1QM7U|   26197704|B004HX5OFW|       8155204| 2013-01-28|\n",
            "|R100BI61LIKH2N|   10409381|B000QW9D14|     583724133| 2013-01-28|\n",
            "|R100TPJCYDYGBU|   39071377|B00D3IKP7Y|     378642975| 2013-01-31|\n",
            "|R1018OO9U6UUWO|   32826337|B0094X28J0|     272196441| 2014-01-21|\n",
            "|R102YIWZEIAXT9|   16385120|B000UQAUWW|     694091073| 2007-01-29|\n",
            "|R1034S7FA21OI1|   14198390|B004S5PBM0|     275810674| 2011-01-06|\n",
            "|R103LC8CTAHWZ6|   16965219|B002EE7OKE|     852505908| 2013-01-07|\n",
            "|R103PT7S4HRIP8|   48295356|B003R7H5TC|     318359987| 2010-01-28|\n",
            "|R104RCQZYPYDXS|   21497984|B000R3BNDI|     318965716| 2008-01-28|\n",
            "|R105KZIXHZW63W|   22595160|B000NKFEZI|     256274221| 2013-01-04|\n",
            "|R105W3ID5NHQ48|   43562425|B002I0JNK8|     930811126| 2011-01-07|\n",
            "|R106J0FROF1O34|   50248806|B0050SWUTQ|     861146594| 2014-01-14|\n",
            "|R10770OX7D4UYW|   25735311|B0029TSTAS|     905830339| 2010-01-22|\n",
            "|R1077Z2P6K2RHR|   48300130|B00004YC3N|     300166398| 2002-01-07|\n",
            "|R1080O4SCGC4KQ|   15054919|B0050SYY5E|     913095161| 2012-01-04|\n",
            "|R108JMURMSE9LT|   35277804|B001CM0PR8|     746149715| 2009-01-29|\n",
            "|R108W55K5VYTA2|   28386256|B00009KO3S|     962864917| 2003-01-05|\n",
            "|R108XCTHE11G0E|   24004574|B000G6IP5A|     643852322| 2013-01-25|\n",
            "|R108YXX9X92XRQ|   22976371|B00YY3OK0A|     884170609| 2015-01-14|\n",
            "|R109JIRGTR42YM|   21244408|B001GANUSC|     709915737| 2010-01-11|\n",
            "+--------------+-----------+----------+--------------+-----------+\n",
            "only showing top 20 rows\n",
            "\n"
          ]
        }
      ]
    },
    {
      "cell_type": "code",
      "source": [
        "video_game_products_df = drop_duplicates.select(['product_id', 'product_title'])\n",
        "video_game_products_df.show()"
      ],
      "metadata": {
        "colab": {
          "base_uri": "https://localhost:8080/"
        },
        "id": "H4FJglPukA7Y",
        "outputId": "f9b89836-ff69-48b5-df3d-22ad85cbd2de"
      },
      "execution_count": 14,
      "outputs": [
        {
          "output_type": "stream",
          "name": "stdout",
          "text": [
            "+----------+--------------------+\n",
            "|product_id|       product_title|\n",
            "+----------+--------------------+\n",
            "|B004HX5OFW|Xbox 360 Slim AC ...|\n",
            "|B000QW9D14|Blue Dragon - Xbo...|\n",
            "|B00D3IKP7Y|        Pokemon Ruby|\n",
            "|B0094X28J0|Nintendo Wii Remo...|\n",
            "|B000UQAUWW|Xbox 360 Console ...|\n",
            "|B004S5PBM0|           Rocksmith|\n",
            "|B002EE7OKE|Sin and Punishmen...|\n",
            "|B003R7H5TC|Need for Speed: H...|\n",
            "|B000R3BNDI|Lego Star Wars: T...|\n",
            "|B000NKFEZI|   Slingo Quest - PC|\n",
            "|B002I0JNK8|Test Drive Unlimi...|\n",
            "|B0050SWUTQ|        Dead Space 3|\n",
            "|B0029TSTAS|Tony Hawk: Ride S...|\n",
            "|B00004YC3N|  Dynasty Warriors 2|\n",
            "|B0050SYY5E|Halo: Combat Evol...|\n",
            "|B001CM0PR8|Animal Crossing: ...|\n",
            "|B00009KO3S|Viewtiful Joe - G...|\n",
            "|B000G6IP5A|Desperate Housewi...|\n",
            "|B00YY3OK0A|SteelSeries Siber...|\n",
            "|B001GANUSC|Emergency Room: R...|\n",
            "+----------+--------------------+\n",
            "only showing top 20 rows\n",
            "\n"
          ]
        }
      ]
    },
    {
      "cell_type": "code",
      "source": [
        "video_game_products_df = video_game_products_df.dropDuplicates(['product_id', 'product_title'])\n",
        "video_game_products_df.show()"
      ],
      "metadata": {
        "colab": {
          "base_uri": "https://localhost:8080/"
        },
        "id": "nRjVRXzOtRxN",
        "outputId": "d76796e5-6038-4ba4-c9ef-2c299cb9f13f"
      },
      "execution_count": 21,
      "outputs": [
        {
          "output_type": "stream",
          "name": "stdout",
          "text": [
            "+----------+--------------------+\n",
            "|product_id|       product_title|\n",
            "+----------+--------------------+\n",
            "|B00CJ7IUI6|The Elder Scrolls...|\n",
            "|B00DHF39KS|Wolfenstein: The ...|\n",
            "|B00MUTAVH6|Under Night In-Bi...|\n",
            "|B001AZSEUW|              Peggle|\n",
            "|B00KVOVBGM|PlayStation 4 Con...|\n",
            "|B00O9VGH4Y|USPRO&reg; Headph...|\n",
            "|B004OQNZY4|Phineas and Ferb:...|\n",
            "|B00ZLN980O|Donop seablue 2.4...|\n",
            "|B002L8W5V6|Dotop Nintendo Ga...|\n",
            "|B007AJZ5PY|Nyko Game Case fo...|\n",
            "|B000AOEU2K|Fire Emblem: Path...|\n",
            "|B000H8BW7U|Tanarus (PC) (Com...|\n",
            "|B013RADQOQ|Susenstone® 2400D...|\n",
            "|B00KQXKUJ2|FIFA 15 (Ultimate...|\n",
            "|B006W41X2C|Turtle Beach - Ea...|\n",
            "|B000KCX9M4|Grand Theft Auto:...|\n",
            "|B00YT90JWC|Red Wii Mini Cons...|\n",
            "|B0096KG6A8|Wii U Super Mario...|\n",
            "|B00L6AVLB0|World of Tanks-X3...|\n",
            "|B000IMYKQ0|Wii Nunchuk Contr...|\n",
            "+----------+--------------------+\n",
            "only showing top 20 rows\n",
            "\n"
          ]
        }
      ]
    },
    {
      "cell_type": "code",
      "source": [
        "video_game_customers = drop_duplicates.groupBy('customer_id').count()\n",
        "video_game_customers_df = video_game_customers.withColumnRenamed('count', 'customer_count')\n",
        "video_game_customers_df.show()"
      ],
      "metadata": {
        "colab": {
          "base_uri": "https://localhost:8080/"
        },
        "id": "kH9Azd2ylvsn",
        "outputId": "868d61a6-7003-47d6-b5e6-74bf92c4c05e"
      },
      "execution_count": 15,
      "outputs": [
        {
          "output_type": "stream",
          "name": "stdout",
          "text": [
            "+-----------+--------------+\n",
            "|customer_id|customer_count|\n",
            "+-----------+--------------+\n",
            "|   40504830|             8|\n",
            "|    3675423|             3|\n",
            "|   11393715|             9|\n",
            "|   14175902|            22|\n",
            "|   39664150|             4|\n",
            "|   14534785|             1|\n",
            "|   47765241|             7|\n",
            "|   33929721|             1|\n",
            "|   41446882|             8|\n",
            "|   52714119|             4|\n",
            "|   27910865|             1|\n",
            "|   31564043|            24|\n",
            "|   50722423|             2|\n",
            "|   26206997|             1|\n",
            "|   21130353|             1|\n",
            "|   28184372|             1|\n",
            "|   13005988|            16|\n",
            "|   13673487|             1|\n",
            "|   16100357|             1|\n",
            "|   16863015|             1|\n",
            "+-----------+--------------+\n",
            "only showing top 20 rows\n",
            "\n"
          ]
        }
      ]
    },
    {
      "cell_type": "code",
      "source": [
        "video_game_vine_df = drop_duplicates.select(['review_id', 'star_rating', 'helpful_votes', 'total_votes', 'vine'])\n",
        "video_game_vine_df.show()"
      ],
      "metadata": {
        "colab": {
          "base_uri": "https://localhost:8080/"
        },
        "id": "g9qIBgHEmBDZ",
        "outputId": "23d0d75c-d021-4766-88e5-050f6f3c1846"
      },
      "execution_count": 16,
      "outputs": [
        {
          "output_type": "stream",
          "name": "stdout",
          "text": [
            "+--------------+-----------+-------------+-----------+----+\n",
            "|     review_id|star_rating|helpful_votes|total_votes|vine|\n",
            "+--------------+-----------+-------------+-----------+----+\n",
            "|R10010D6B1QM7U|          1|            0|          0|   N|\n",
            "|R100BI61LIKH2N|          5|            1|          2|   N|\n",
            "|R100TPJCYDYGBU|          3|            1|          2|   N|\n",
            "|R1018OO9U6UUWO|          5|            0|          0|   N|\n",
            "|R102YIWZEIAXT9|          5|            2|          4|   N|\n",
            "|R1034S7FA21OI1|          5|            2|          2|   N|\n",
            "|R103LC8CTAHWZ6|          2|            1|          1|   N|\n",
            "|R103PT7S4HRIP8|          2|            0|          0|   N|\n",
            "|R104RCQZYPYDXS|          5|            7|          8|   N|\n",
            "|R105KZIXHZW63W|          5|            1|          1|   N|\n",
            "|R105W3ID5NHQ48|          3|            8|          9|   N|\n",
            "|R106J0FROF1O34|          4|            0|          0|   N|\n",
            "|R10770OX7D4UYW|          5|            0|          0|   N|\n",
            "|R1077Z2P6K2RHR|          5|            0|          0|   N|\n",
            "|R1080O4SCGC4KQ|          5|            0|          0|   N|\n",
            "|R108JMURMSE9LT|          5|            1|          1|   N|\n",
            "|R108W55K5VYTA2|          4|            0|          1|   N|\n",
            "|R108XCTHE11G0E|          3|            0|          0|   N|\n",
            "|R108YXX9X92XRQ|          5|            1|          1|   Y|\n",
            "|R109JIRGTR42YM|          5|            7|          8|   N|\n",
            "+--------------+-----------+-------------+-----------+----+\n",
            "only showing top 20 rows\n",
            "\n"
          ]
        }
      ]
    },
    {
      "cell_type": "code",
      "source": [
        "# Define AWS RDS parameters - Parameters deleted for submission - Please fill in appropriate values before running\n",
        "my_aws_endpoint = \n",
        "my_aws_port_number = \n",
        "my_aws_database_name = \n",
        "my_aws_username = \n",
        "my_aws_password = "
      ],
      "metadata": {
        "id": "CqbW5yROnyPm"
      },
      "execution_count": 17,
      "outputs": []
    },
    {
      "cell_type": "code",
      "source": [
        "# Define the connection string\n",
        "jdbc_url=f'jdbc:postgresql://{my_aws_endpoint}:{my_aws_port_number}/{my_aws_database_name}'\n",
        "\n",
        "# Set up the configuration parameters\n",
        "config = {\"user\": f'{my_aws_username}', \n",
        "          \"password\": f'{my_aws_password}', \n",
        "          \"driver\":\"org.postgresql.Driver\"}\n",
        "\n",
        "mode = 'append'"
      ],
      "metadata": {
        "id": "owBG5f-CnXaA"
      },
      "execution_count": 18,
      "outputs": []
    },
    {
      "cell_type": "code",
      "source": [
        "# Write the dataframe to the appropriate table in your PostgreSQL RDS\n",
        "video_game_review_id_df.write.jdbc(url = jdbc_url, table = 'review_id_table', mode = mode, properties = config)"
      ],
      "metadata": {
        "id": "4P0fpa6soZc4"
      },
      "execution_count": 19,
      "outputs": []
    },
    {
      "cell_type": "code",
      "source": [
        "# Write the dataframe to the appropriate table in your PostgreSQL RDS\n",
        "video_game_products_df.write.jdbc(url = jdbc_url, table = 'products', mode = mode, properties = config)"
      ],
      "metadata": {
        "id": "iuM49f_WofGZ"
      },
      "execution_count": 22,
      "outputs": []
    },
    {
      "cell_type": "code",
      "source": [
        "# Write the dataframe to the appropriate table in your PostgreSQL RDS\n",
        "video_game_customers_df.write.jdbc(url = jdbc_url, table = 'customers', mode = mode, properties = config)"
      ],
      "metadata": {
        "id": "e0NX3TNvof-N"
      },
      "execution_count": null,
      "outputs": []
    },
    {
      "cell_type": "code",
      "source": [
        "# Write the dataframe to the appropriate table in your PostgreSQL RDS\n",
        "video_game_vine_df.write.jdbc(url = jdbc_url, table = 'vine_table', mode = mode, properties = config)"
      ],
      "metadata": {
        "id": "rayLKyAcpHjx"
      },
      "execution_count": null,
      "outputs": []
    },
    {
      "cell_type": "code",
      "source": [],
      "metadata": {
        "id": "9XrQltrWrhXc"
      },
      "execution_count": null,
      "outputs": []
    }
  ]
}